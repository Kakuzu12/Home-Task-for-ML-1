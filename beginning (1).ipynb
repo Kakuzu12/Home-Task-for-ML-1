{
 "cells": [
  {
   "cell_type": "code",
   "execution_count": 456,
   "metadata": {},
   "outputs": [],
   "source": [
    "import numpy as np\n",
    "import pandas as pd\n",
    "import matplotlib.pyplot as plt"
   ]
  },
  {
   "cell_type": "code",
   "execution_count": 457,
   "metadata": {},
   "outputs": [],
   "source": [
    "sample = pd.read_csv (\"C:\\\\Users\\\\bubbl\\\\Desktop\\\\Data\\\\sample_submission.csv\")\n",
    "test = pd.read_csv(\"C:\\\\Users\\\\bubbl\\\\Desktop\\\\Data\\\\test.csv\")\n",
    "train = pd.read_csv(\"C:\\\\Users\\\\bubbl\\\\Desktop\\\\Data\\\\train.csv\")"
   ]
  },
  {
   "cell_type": "code",
   "execution_count": 458,
   "metadata": {},
   "outputs": [
    {
     "data": {
      "text/html": [
       "<div>\n",
       "<style scoped>\n",
       "    .dataframe tbody tr th:only-of-type {\n",
       "        vertical-align: middle;\n",
       "    }\n",
       "\n",
       "    .dataframe tbody tr th {\n",
       "        vertical-align: top;\n",
       "    }\n",
       "\n",
       "    .dataframe thead th {\n",
       "        text-align: right;\n",
       "    }\n",
       "</style>\n",
       "<table border=\"1\" class=\"dataframe\">\n",
       "  <thead>\n",
       "    <tr style=\"text-align: right;\">\n",
       "      <th></th>\n",
       "      <th>id</th>\n",
       "      <th>gender</th>\n",
       "      <th>age</th>\n",
       "      <th>hypertension</th>\n",
       "      <th>heart_disease</th>\n",
       "      <th>ever_married</th>\n",
       "      <th>work_type</th>\n",
       "      <th>Residence_type</th>\n",
       "      <th>avg_glucose_level</th>\n",
       "      <th>bmi</th>\n",
       "      <th>smoking_status</th>\n",
       "    </tr>\n",
       "  </thead>\n",
       "  <tbody>\n",
       "    <tr>\n",
       "      <th>0</th>\n",
       "      <td>37061</td>\n",
       "      <td>Male</td>\n",
       "      <td>19.0</td>\n",
       "      <td>0</td>\n",
       "      <td>0</td>\n",
       "      <td>No</td>\n",
       "      <td>Private</td>\n",
       "      <td>Rural</td>\n",
       "      <td>92.61</td>\n",
       "      <td>16.8</td>\n",
       "      <td>never smoked</td>\n",
       "    </tr>\n",
       "    <tr>\n",
       "      <th>1</th>\n",
       "      <td>42333</td>\n",
       "      <td>Male</td>\n",
       "      <td>53.0</td>\n",
       "      <td>0</td>\n",
       "      <td>0</td>\n",
       "      <td>Yes</td>\n",
       "      <td>Govt_job</td>\n",
       "      <td>Urban</td>\n",
       "      <td>94.03</td>\n",
       "      <td>26.5</td>\n",
       "      <td>NaN</td>\n",
       "    </tr>\n",
       "    <tr>\n",
       "      <th>2</th>\n",
       "      <td>58964</td>\n",
       "      <td>Female</td>\n",
       "      <td>51.0</td>\n",
       "      <td>0</td>\n",
       "      <td>0</td>\n",
       "      <td>Yes</td>\n",
       "      <td>Private</td>\n",
       "      <td>Rural</td>\n",
       "      <td>127.22</td>\n",
       "      <td>31.0</td>\n",
       "      <td>smokes</td>\n",
       "    </tr>\n",
       "    <tr>\n",
       "      <th>3</th>\n",
       "      <td>34063</td>\n",
       "      <td>Female</td>\n",
       "      <td>17.0</td>\n",
       "      <td>0</td>\n",
       "      <td>0</td>\n",
       "      <td>No</td>\n",
       "      <td>Private</td>\n",
       "      <td>Rural</td>\n",
       "      <td>112.15</td>\n",
       "      <td>19.8</td>\n",
       "      <td>NaN</td>\n",
       "    </tr>\n",
       "    <tr>\n",
       "      <th>4</th>\n",
       "      <td>43682</td>\n",
       "      <td>Female</td>\n",
       "      <td>41.0</td>\n",
       "      <td>0</td>\n",
       "      <td>0</td>\n",
       "      <td>Yes</td>\n",
       "      <td>Govt_job</td>\n",
       "      <td>Urban</td>\n",
       "      <td>112.17</td>\n",
       "      <td>27.5</td>\n",
       "      <td>never smoked</td>\n",
       "    </tr>\n",
       "  </tbody>\n",
       "</table>\n",
       "</div>"
      ],
      "text/plain": [
       "      id  gender   age  hypertension  heart_disease ever_married work_type  \\\n",
       "0  37061    Male  19.0             0              0           No   Private   \n",
       "1  42333    Male  53.0             0              0          Yes  Govt_job   \n",
       "2  58964  Female  51.0             0              0          Yes   Private   \n",
       "3  34063  Female  17.0             0              0           No   Private   \n",
       "4  43682  Female  41.0             0              0          Yes  Govt_job   \n",
       "\n",
       "  Residence_type  avg_glucose_level   bmi smoking_status  \n",
       "0          Rural              92.61  16.8   never smoked  \n",
       "1          Urban              94.03  26.5            NaN  \n",
       "2          Rural             127.22  31.0         smokes  \n",
       "3          Rural             112.15  19.8            NaN  \n",
       "4          Urban             112.17  27.5   never smoked  "
      ]
     },
     "execution_count": 458,
     "metadata": {},
     "output_type": "execute_result"
    }
   ],
   "source": [
    "test.head()"
   ]
  },
  {
   "cell_type": "code",
   "execution_count": 459,
   "metadata": {},
   "outputs": [
    {
     "data": {
      "text/html": [
       "<div>\n",
       "<style scoped>\n",
       "    .dataframe tbody tr th:only-of-type {\n",
       "        vertical-align: middle;\n",
       "    }\n",
       "\n",
       "    .dataframe tbody tr th {\n",
       "        vertical-align: top;\n",
       "    }\n",
       "\n",
       "    .dataframe thead th {\n",
       "        text-align: right;\n",
       "    }\n",
       "</style>\n",
       "<table border=\"1\" class=\"dataframe\">\n",
       "  <thead>\n",
       "    <tr style=\"text-align: right;\">\n",
       "      <th></th>\n",
       "      <th>id</th>\n",
       "      <th>gender</th>\n",
       "      <th>age</th>\n",
       "      <th>hypertension</th>\n",
       "      <th>heart_disease</th>\n",
       "      <th>ever_married</th>\n",
       "      <th>work_type</th>\n",
       "      <th>Residence_type</th>\n",
       "      <th>avg_glucose_level</th>\n",
       "      <th>bmi</th>\n",
       "      <th>smoking_status</th>\n",
       "      <th>stroke</th>\n",
       "    </tr>\n",
       "  </thead>\n",
       "  <tbody>\n",
       "    <tr>\n",
       "      <th>0</th>\n",
       "      <td>30669</td>\n",
       "      <td>Male</td>\n",
       "      <td>3.0</td>\n",
       "      <td>0</td>\n",
       "      <td>0</td>\n",
       "      <td>No</td>\n",
       "      <td>children</td>\n",
       "      <td>Rural</td>\n",
       "      <td>95.12</td>\n",
       "      <td>18.0</td>\n",
       "      <td>NaN</td>\n",
       "      <td>0</td>\n",
       "    </tr>\n",
       "    <tr>\n",
       "      <th>1</th>\n",
       "      <td>30468</td>\n",
       "      <td>Male</td>\n",
       "      <td>58.0</td>\n",
       "      <td>1</td>\n",
       "      <td>0</td>\n",
       "      <td>Yes</td>\n",
       "      <td>Private</td>\n",
       "      <td>Urban</td>\n",
       "      <td>87.96</td>\n",
       "      <td>39.2</td>\n",
       "      <td>never smoked</td>\n",
       "      <td>0</td>\n",
       "    </tr>\n",
       "    <tr>\n",
       "      <th>2</th>\n",
       "      <td>16523</td>\n",
       "      <td>Female</td>\n",
       "      <td>8.0</td>\n",
       "      <td>0</td>\n",
       "      <td>0</td>\n",
       "      <td>No</td>\n",
       "      <td>Private</td>\n",
       "      <td>Urban</td>\n",
       "      <td>110.89</td>\n",
       "      <td>17.6</td>\n",
       "      <td>NaN</td>\n",
       "      <td>0</td>\n",
       "    </tr>\n",
       "    <tr>\n",
       "      <th>3</th>\n",
       "      <td>56543</td>\n",
       "      <td>Female</td>\n",
       "      <td>70.0</td>\n",
       "      <td>0</td>\n",
       "      <td>0</td>\n",
       "      <td>Yes</td>\n",
       "      <td>Private</td>\n",
       "      <td>Rural</td>\n",
       "      <td>69.04</td>\n",
       "      <td>35.9</td>\n",
       "      <td>formerly smoked</td>\n",
       "      <td>0</td>\n",
       "    </tr>\n",
       "    <tr>\n",
       "      <th>4</th>\n",
       "      <td>46136</td>\n",
       "      <td>Male</td>\n",
       "      <td>14.0</td>\n",
       "      <td>0</td>\n",
       "      <td>0</td>\n",
       "      <td>No</td>\n",
       "      <td>Never_worked</td>\n",
       "      <td>Rural</td>\n",
       "      <td>161.28</td>\n",
       "      <td>19.1</td>\n",
       "      <td>NaN</td>\n",
       "      <td>0</td>\n",
       "    </tr>\n",
       "  </tbody>\n",
       "</table>\n",
       "</div>"
      ],
      "text/plain": [
       "      id  gender   age  hypertension  heart_disease ever_married  \\\n",
       "0  30669    Male   3.0             0              0           No   \n",
       "1  30468    Male  58.0             1              0          Yes   \n",
       "2  16523  Female   8.0             0              0           No   \n",
       "3  56543  Female  70.0             0              0          Yes   \n",
       "4  46136    Male  14.0             0              0           No   \n",
       "\n",
       "      work_type Residence_type  avg_glucose_level   bmi   smoking_status  \\\n",
       "0      children          Rural              95.12  18.0              NaN   \n",
       "1       Private          Urban              87.96  39.2     never smoked   \n",
       "2       Private          Urban             110.89  17.6              NaN   \n",
       "3       Private          Rural              69.04  35.9  formerly smoked   \n",
       "4  Never_worked          Rural             161.28  19.1              NaN   \n",
       "\n",
       "   stroke  \n",
       "0       0  \n",
       "1       0  \n",
       "2       0  \n",
       "3       0  \n",
       "4       0  "
      ]
     },
     "execution_count": 459,
     "metadata": {},
     "output_type": "execute_result"
    }
   ],
   "source": [
    "train.head()"
   ]
  },
  {
   "cell_type": "code",
   "execution_count": 460,
   "metadata": {},
   "outputs": [
    {
     "data": {
      "text/html": [
       "<div>\n",
       "<style scoped>\n",
       "    .dataframe tbody tr th:only-of-type {\n",
       "        vertical-align: middle;\n",
       "    }\n",
       "\n",
       "    .dataframe tbody tr th {\n",
       "        vertical-align: top;\n",
       "    }\n",
       "\n",
       "    .dataframe thead th {\n",
       "        text-align: right;\n",
       "    }\n",
       "</style>\n",
       "<table border=\"1\" class=\"dataframe\">\n",
       "  <thead>\n",
       "    <tr style=\"text-align: right;\">\n",
       "      <th></th>\n",
       "      <th>id</th>\n",
       "      <th>stroke</th>\n",
       "    </tr>\n",
       "  </thead>\n",
       "  <tbody>\n",
       "    <tr>\n",
       "      <th>0</th>\n",
       "      <td>37061</td>\n",
       "      <td>0.5</td>\n",
       "    </tr>\n",
       "    <tr>\n",
       "      <th>1</th>\n",
       "      <td>42333</td>\n",
       "      <td>0.5</td>\n",
       "    </tr>\n",
       "    <tr>\n",
       "      <th>2</th>\n",
       "      <td>58964</td>\n",
       "      <td>0.5</td>\n",
       "    </tr>\n",
       "    <tr>\n",
       "      <th>3</th>\n",
       "      <td>34063</td>\n",
       "      <td>0.5</td>\n",
       "    </tr>\n",
       "    <tr>\n",
       "      <th>4</th>\n",
       "      <td>43682</td>\n",
       "      <td>0.5</td>\n",
       "    </tr>\n",
       "  </tbody>\n",
       "</table>\n",
       "</div>"
      ],
      "text/plain": [
       "      id  stroke\n",
       "0  37061     0.5\n",
       "1  42333     0.5\n",
       "2  58964     0.5\n",
       "3  34063     0.5\n",
       "4  43682     0.5"
      ]
     },
     "execution_count": 460,
     "metadata": {},
     "output_type": "execute_result"
    }
   ],
   "source": [
    "sample.head()"
   ]
  },
  {
   "cell_type": "code",
   "execution_count": 461,
   "metadata": {},
   "outputs": [],
   "source": [
    "feautures_list = ['age', 'avg_glucose_level', 'bmi']"
   ]
  },
  {
   "cell_type": "code",
   "execution_count": 462,
   "metadata": {},
   "outputs": [
    {
     "data": {
      "text/plain": [
       "(30001, 12)"
      ]
     },
     "execution_count": 462,
     "metadata": {},
     "output_type": "execute_result"
    }
   ],
   "source": [
    "train.shape"
   ]
  },
  {
   "cell_type": "code",
   "execution_count": 463,
   "metadata": {},
   "outputs": [
    {
     "data": {
      "text/plain": [
       "1017"
      ]
     },
     "execution_count": 463,
     "metadata": {},
     "output_type": "execute_result"
    }
   ],
   "source": [
    "np.sum(pd.isnull(train['bmi']))# считаем количество неопределенных значений"
   ]
  },
  {
   "cell_type": "code",
   "execution_count": 464,
   "metadata": {},
   "outputs": [],
   "source": [
    "mean_bmi = train['bmi'].mean()\n",
    "train['bmi'] = train['bmi'].fillna(mean_bmi)\n",
    "test['bmi'] = test['bmi'].fillna(mean_bmi)# заменяем их средними значениями в тестовой и обучающей выборках"
   ]
  },
  {
   "cell_type": "code",
   "execution_count": 465,
   "metadata": {},
   "outputs": [],
   "source": [
    "train_part1 = train.loc[0:15000, : ].copy()\n",
    "train_part2 = train.loc[15000:, : ].copy() #делим датасет на две равные части"
   ]
  },
  {
   "cell_type": "code",
   "execution_count": 466,
   "metadata": {},
   "outputs": [],
   "source": [
    "from sklearn.linear_model import LogisticRegression"
   ]
  },
  {
   "cell_type": "code",
   "execution_count": 467,
   "metadata": {},
   "outputs": [
    {
     "data": {
      "text/plain": [
       "LogisticRegression(C=1.0, class_weight=None, dual=False, fit_intercept=True,\n",
       "                   intercept_scaling=1, l1_ratio=None, max_iter=100,\n",
       "                   multi_class='warn', n_jobs=None, penalty='l2',\n",
       "                   random_state=0, solver='lbfgs', tol=0.0001, verbose=0,\n",
       "                   warm_start=False)"
      ]
     },
     "execution_count": 467,
     "metadata": {},
     "output_type": "execute_result"
    }
   ],
   "source": [
    "log_reg_1 = LogisticRegression(random_state=0, solver='lbfgs',\n",
    "                     )\n",
    "log_reg_1.fit(X = train_part1.loc[:,feautures_list ], y= train_part1.loc[:, 'stroke'])\n",
    "# создаем логистическую функцию и тренируем модель на первой половине выборки, то есть проводим кросс-валидацию, для того чтобы\n",
    "#избежать переобучения модели\n"
   ]
  },
  {
   "cell_type": "code",
   "execution_count": 468,
   "metadata": {},
   "outputs": [],
   "source": [
    "prediction_on_part2 = log_reg_1.predict_proba(X = train_part2.loc[:,feautures_list ] )[:,1]\n",
    "#строим предсказание значения stroke на второй половине обучающей выборки"
   ]
  },
  {
   "cell_type": "code",
   "execution_count": null,
   "metadata": {},
   "outputs": [],
   "source": []
  },
  {
   "cell_type": "code",
   "execution_count": 469,
   "metadata": {},
   "outputs": [
    {
     "data": {
      "text/plain": [
       "array([-8.78222284])"
      ]
     },
     "execution_count": 469,
     "metadata": {},
     "output_type": "execute_result"
    }
   ],
   "source": [
    "log_reg_1.intercept_ # свободный член, это гиперпараметр"
   ]
  },
  {
   "cell_type": "code",
   "execution_count": 470,
   "metadata": {},
   "outputs": [
    {
     "data": {
      "text/plain": [
       "array([[ 0.07224691,  0.00498493, -0.0002981 ]])"
      ]
     },
     "execution_count": 470,
     "metadata": {},
     "output_type": "execute_result"
    }
   ],
   "source": [
    "log_reg_1.coef_ # ну это коэффициенты при параметрах заданных в features, ну это тоже гиперпараметры"
   ]
  },
  {
   "cell_type": "code",
   "execution_count": 471,
   "metadata": {},
   "outputs": [],
   "source": [
    "t=np.arange(-0.33224691,0.57224691,0.05)"
   ]
  },
  {
   "cell_type": "code",
   "execution_count": 472,
   "metadata": {},
   "outputs": [
    {
     "data": {
      "text/plain": [
       "array([-0.33224691, -0.28224691, -0.23224691, -0.18224691, -0.13224691,\n",
       "       -0.08224691, -0.03224691,  0.01775309,  0.06775309,  0.11775309,\n",
       "        0.16775309,  0.21775309,  0.26775309,  0.31775309,  0.36775309,\n",
       "        0.41775309,  0.46775309,  0.51775309,  0.56775309])"
      ]
     },
     "execution_count": 472,
     "metadata": {},
     "output_type": "execute_result"
    }
   ],
   "source": [
    "t"
   ]
  },
  {
   "cell_type": "code",
   "execution_count": 473,
   "metadata": {},
   "outputs": [],
   "source": [
    "intercept=np.arange(-88.78222284,82.78222284,10) # взял какие-то интерсепты с шагом 10, включая исходное значение в модели"
   ]
  },
  {
   "cell_type": "code",
   "execution_count": 474,
   "metadata": {},
   "outputs": [
    {
     "data": {
      "text/plain": [
       "array([-88.78222284, -78.78222284, -68.78222284, -58.78222284,\n",
       "       -48.78222284, -38.78222284, -28.78222284, -18.78222284,\n",
       "        -8.78222284,   1.21777716,  11.21777716,  21.21777716,\n",
       "        31.21777716,  41.21777716,  51.21777716,  61.21777716,\n",
       "        71.21777716,  81.21777716])"
      ]
     },
     "execution_count": 474,
     "metadata": {},
     "output_type": "execute_result"
    }
   ],
   "source": [
    "intercept"
   ]
  },
  {
   "cell_type": "code",
   "execution_count": 475,
   "metadata": {},
   "outputs": [
    {
     "data": {
      "text/plain": [
       "18"
      ]
     },
     "execution_count": 475,
     "metadata": {},
     "output_type": "execute_result"
    }
   ],
   "source": [
    "len(intercept)"
   ]
  },
  {
   "cell_type": "code",
   "execution_count": 476,
   "metadata": {},
   "outputs": [],
   "source": [
    "from sklearn.metrics import accuracy_score\n",
    "score=[]\n",
    "for i in range(len(intercept)):\n",
    "    log_reg_1.intercept_=intercept[i]\n",
    "    prediction_on_part2 = log_reg_1.predict_proba(X = train_part2.loc[:,feautures_list ] )[:,1]\n",
    "    score.append(accuracy_score(train_part2['stroke']  ,\n",
    "                      (prediction_on_part2 > train['stroke'].mean())*1))\n",
    "    "
   ]
  },
  {
   "cell_type": "code",
   "execution_count": 477,
   "metadata": {},
   "outputs": [
    {
     "data": {
      "text/plain": [
       "[0.9813345776948204,\n",
       " 0.9813345776948204,\n",
       " 0.9813345776948204,\n",
       " 0.9813345776948204,\n",
       " 0.9813345776948204,\n",
       " 0.9813345776948204,\n",
       " 0.9813345776948204,\n",
       " 0.9813345776948204,\n",
       " 0.7400173321778548,\n",
       " 0.018665422305179653,\n",
       " 0.018665422305179653,\n",
       " 0.018665422305179653,\n",
       " 0.018665422305179653,\n",
       " 0.018665422305179653,\n",
       " 0.018665422305179653,\n",
       " 0.018665422305179653,\n",
       " 0.018665422305179653,\n",
       " 0.018665422305179653]"
      ]
     },
     "execution_count": 477,
     "metadata": {},
     "output_type": "execute_result"
    }
   ],
   "source": [
    "score # ну здесь по идее он выводит зависимость метрики от интерсепта, то, что равно 0.74 это при исходном значении интерсепта"
   ]
  },
  {
   "cell_type": "code",
   "execution_count": 478,
   "metadata": {
    "scrolled": true
   },
   "outputs": [
    {
     "data": {
      "image/png": "[encoded data removed]",
      "text/plain": [
       "<Figure size 432x288 with 1 Axes>"
      ]
     },
     "metadata": {
      "needs_background": "light"
     },
     "output_type": "display_data"
    }
   ],
   "source": [
    "plt.plot(intercept,score)\n",
    "plt.ylabel('score')\n",
    "plt.xlabel('intercept')\n",
    "plt.show()         \n",
    "# ну странно как-то получается, где-то в районе нуля начинается скачкообразное увеличение, где-то в районе -20 выходит на максимальное значение"
   ]
  },
  {
   "cell_type": "code",
   "execution_count": 479,
   "metadata": {},
   "outputs": [],
   "source": [
    "# ну можно примерно тоже самое проделать с оставшимися коэффициентами, ну я возьму , допустим, первый"
   ]
  },
  {
   "cell_type": "code",
   "execution_count": 480,
   "metadata": {},
   "outputs": [
    {
     "name": "stdout",
     "output_type": "stream",
     "text": [
      "[[-3.3224691e-01  4.9849300e-03 -2.9810000e-04]]\n",
      "[[-0.28224691  0.00498493 -0.0002981 ]]\n",
      "[[-0.23224691  0.00498493 -0.0002981 ]]\n",
      "[[-0.18224691  0.00498493 -0.0002981 ]]\n",
      "[[-0.13224691  0.00498493 -0.0002981 ]]\n",
      "[[-0.08224691  0.00498493 -0.0002981 ]]\n",
      "[[-0.03224691  0.00498493 -0.0002981 ]]\n",
      "[[ 0.01775309  0.00498493 -0.0002981 ]]\n",
      "[[ 0.06775309  0.00498493 -0.0002981 ]]\n",
      "[[ 0.11775309  0.00498493 -0.0002981 ]]\n",
      "[[ 0.16775309  0.00498493 -0.0002981 ]]\n",
      "[[ 0.21775309  0.00498493 -0.0002981 ]]\n",
      "[[ 0.26775309  0.00498493 -0.0002981 ]]\n",
      "[[ 3.1775309e-01  4.9849300e-03 -2.9810000e-04]]\n",
      "[[ 3.6775309e-01  4.9849300e-03 -2.9810000e-04]]\n",
      "[[ 4.1775309e-01  4.9849300e-03 -2.9810000e-04]]\n",
      "[[ 4.6775309e-01  4.9849300e-03 -2.9810000e-04]]\n",
      "[[ 5.1775309e-01  4.9849300e-03 -2.9810000e-04]]\n",
      "[[ 5.6775309e-01  4.9849300e-03 -2.9810000e-04]]\n"
     ]
    }
   ],
   "source": [
    "score=[]\n",
    "for i in range(len(t)):\n",
    "    log_reg_1.coef_=np.array([[ t[i],  0.00498493, -0.0002981 ]])\n",
    "    print(log_reg_1.coef_)\n",
    "    prediction_on_part2 = log_reg_1.predict_proba(X = train_part2.loc[:,feautures_list ] )[:,1]\n",
    "    score.append(accuracy_score(train_part2['stroke']  ,\n",
    "                      (prediction_on_part2 > train['stroke'].mean())*1))\n"
   ]
  },
  {
   "cell_type": "code",
   "execution_count": 481,
   "metadata": {},
   "outputs": [
    {
     "data": {
      "text/plain": [
       "array([-0.33224691, -0.28224691, -0.23224691, -0.18224691, -0.13224691,\n",
       "       -0.08224691, -0.03224691,  0.01775309,  0.06775309,  0.11775309,\n",
       "        0.16775309,  0.21775309,  0.26775309,  0.31775309,  0.36775309,\n",
       "        0.41775309,  0.46775309,  0.51775309,  0.56775309])"
      ]
     },
     "execution_count": 481,
     "metadata": {},
     "output_type": "execute_result"
    }
   ],
   "source": [
    "t"
   ]
  },
  {
   "cell_type": "code",
   "execution_count": 482,
   "metadata": {},
   "outputs": [
    {
     "data": {
      "text/plain": [
       "[0.018665422305179653,\n",
       " 0.018665422305179653,\n",
       " 0.018665422305179653,\n",
       " 0.018665422305179653,\n",
       " 0.018665422305179653,\n",
       " 0.018665422305179653,\n",
       " 0.018665422305179653,\n",
       " 0.018665422305179653,\n",
       " 0.018665422305179653,\n",
       " 0.018665422305179653,\n",
       " 0.018665422305179653,\n",
       " 0.018665422305179653,\n",
       " 0.018665422305179653,\n",
       " 0.018665422305179653,\n",
       " 0.018665422305179653,\n",
       " 0.018665422305179653,\n",
       " 0.018665422305179653,\n",
       " 0.018665422305179653,\n",
       " 0.018665422305179653]"
      ]
     },
     "execution_count": 482,
     "metadata": {},
     "output_type": "execute_result"
    }
   ],
   "source": [
    "score # тут почему то зависимости от первого параметра нет"
   ]
  },
  {
   "cell_type": "code",
   "execution_count": null,
   "metadata": {},
   "outputs": [],
   "source": []
  },
  {
   "cell_type": "code",
   "execution_count": 483,
   "metadata": {},
   "outputs": [
    {
     "data": {
      "text/plain": [
       "LogisticRegression(C=1.0, class_weight=None, dual=False, fit_intercept=True,\n",
       "                   intercept_scaling=1, l1_ratio=None, max_iter=100,\n",
       "                   multi_class='warn', n_jobs=None, penalty='l2',\n",
       "                   random_state=0, solver='lbfgs', tol=0.0001, verbose=0,\n",
       "                   warm_start=False)"
      ]
     },
     "execution_count": 483,
     "metadata": {},
     "output_type": "execute_result"
    }
   ],
   "source": [
    "log_reg_2 = LogisticRegression(random_state=0, solver='lbfgs',\n",
    "                     )\n",
    "log_reg_2.fit(X = train_part2.loc[:,feautures_list ], y= train_part2.loc[:, 'stroke'])\n",
    "# создаем модель логистической регрессии для второй половины обучающей выборки, то есть проводим кросс-валидацию"
   ]
  },
  {
   "cell_type": "code",
   "execution_count": 484,
   "metadata": {},
   "outputs": [],
   "source": [
    "prediction_on_part1 = log_reg_2.predict_proba(X = train_part1.loc[:,feautures_list ] )[:,1]"
   ]
  },
  {
   "cell_type": "code",
   "execution_count": 485,
   "metadata": {},
   "outputs": [
    {
     "data": {
      "text/plain": [
       "0.7172855142990467"
      ]
     },
     "execution_count": 485,
     "metadata": {},
     "output_type": "execute_result"
    }
   ],
   "source": [
    "accuracy_score(train_part1['stroke']  ,\n",
    "                      (prediction_on_part1 > train['stroke'].mean())*1)"
   ]
  },
  {
   "cell_type": "code",
   "execution_count": 486,
   "metadata": {},
   "outputs": [],
   "source": [
    "# видим, что в первом случае значение выше, поэтому выбираем первую модель и соответствующие ей гиперпараметры\n",
    "score=[accuracy_score(train_part2['stroke']  ,\n",
    "                      (prediction_on_part2 > train['stroke'].mean())*1),accuracy_score(train_part1['stroke']  ,\n",
    "                      (prediction_on_part1 > train['stroke'].mean())*1)]"
   ]
  },
  {
   "cell_type": "code",
   "execution_count": 487,
   "metadata": {},
   "outputs": [
    {
     "data": {
      "text/plain": [
       "[0.018665422305179653, 0.7172855142990467]"
      ]
     },
     "execution_count": 487,
     "metadata": {},
     "output_type": "execute_result"
    }
   ],
   "source": [
    "score"
   ]
  },
  {
   "cell_type": "code",
   "execution_count": 488,
   "metadata": {},
   "outputs": [
    {
     "data": {
      "text/plain": [
       "0.3679754683021132"
      ]
     },
     "execution_count": 488,
     "metadata": {},
     "output_type": "execute_result"
    }
   ],
   "source": [
    "np.mean(score)"
   ]
  },
  {
   "cell_type": "code",
   "execution_count": 489,
   "metadata": {},
   "outputs": [],
   "source": [
    "# можно features менять и в зависимости от значения метрики смотреть какие параметры оказывают наибольшее влияние на результат\n",
    "# предварительно заменяем все категориальные переменные на числовые"
   ]
  },
  {
   "cell_type": "code",
   "execution_count": 490,
   "metadata": {},
   "outputs": [
    {
     "name": "stdout",
     "output_type": "stream",
     "text": [
      "children\n",
      "Private\n",
      "Never_worked\n",
      "Self-employed\n",
      "Govt_job\n"
     ]
    }
   ],
   "source": [
    "for i in train['work_type'].unique():\n",
    "    print(i)\n",
    "    train['work_type_is_{}'.format(i)] = (train['work_type'] == i)*1\n",
    "    test['work_type_is_{}'.format(i)] = (test['work_type'] == i)*1"
   ]
  },
  {
   "cell_type": "code",
   "execution_count": 491,
   "metadata": {},
   "outputs": [],
   "source": [
    "train['smoking_status'] = train['smoking_status'].fillna('nan')\n",
    "test['smoking_status'] = test['smoking_status'].fillna('nan')"
   ]
  },
  {
   "cell_type": "code",
   "execution_count": 492,
   "metadata": {},
   "outputs": [],
   "source": [
    "K=train.groupby(['smoking_status']).size() # тут поменял таргет энкодинг на гладкий"
   ]
  },
  {
   "cell_type": "code",
   "execution_count": 493,
   "metadata": {},
   "outputs": [],
   "source": [
    "meanstroke=train.groupby('smoking_status')['stroke'].mean()"
   ]
  },
  {
   "cell_type": "code",
   "execution_count": 494,
   "metadata": {},
   "outputs": [],
   "source": [
    "globalmeanstroke=train[\"stroke\"].mean()"
   ]
  },
  {
   "cell_type": "code",
   "execution_count": 495,
   "metadata": {},
   "outputs": [],
   "source": [
    "f=(meanstroke*K+globalmeanstroke*10)/(K+10)\n",
    "smoking_status_smooth_target_enc_dict=f.to_dict()"
   ]
  },
  {
   "cell_type": "code",
   "execution_count": 496,
   "metadata": {},
   "outputs": [],
   "source": [
    "train['smoking_status_smooth_target_enc'] = train['smoking_status'].replace(smoking_status_smooth_target_enc_dict)\n",
    "test['smoking_status_smooth_target_enc'] = test['smoking_status'].replace(smoking_status_smooth_target_enc_dict)"
   ]
  },
  {
   "cell_type": "code",
   "execution_count": 497,
   "metadata": {},
   "outputs": [],
   "source": [
    "train['ever_married'] = train['ever_married'].replace({'Yes':1, 'No':0 })\n",
    "test['ever_married'] = test['ever_married'].replace({'Yes':1, 'No':0 })"
   ]
  },
  {
   "cell_type": "code",
   "execution_count": 498,
   "metadata": {},
   "outputs": [],
   "source": [
    "train['Residence_type'] = train['Residence_type'].replace({'Urban':1, 'Rural':0 })\n",
    "test['Residence_type'] = test['Residence_type'].replace({'Urban':1, 'Rural':0 })"
   ]
  },
  {
   "cell_type": "code",
   "execution_count": 499,
   "metadata": {},
   "outputs": [
    {
     "data": {
      "text/plain": [
       "Female    17676\n",
       "Male      12315\n",
       "Other        10\n",
       "Name: gender, dtype: int64"
      ]
     },
     "execution_count": 499,
     "metadata": {},
     "output_type": "execute_result"
    }
   ],
   "source": [
    "train['gender'].value_counts()"
   ]
  },
  {
   "cell_type": "code",
   "execution_count": null,
   "metadata": {},
   "outputs": [],
   "source": [
    "\n"
   ]
  },
  {
   "cell_type": "code",
   "execution_count": 500,
   "metadata": {},
   "outputs": [
    {
     "name": "stdout",
     "output_type": "stream",
     "text": [
      "nan\n",
      "never smoked\n",
      "formerly smoked\n",
      "smokes\n"
     ]
    }
   ],
   "source": [
    "for i in train['smoking_status'].unique():\n",
    "    print(i)\n",
    "    train['smoking_status_is_{}'.format(i)] = (train['smoking_status'] == i)*1\n",
    "    test['smoking_status_is_{}'.format(i)] = (test['smoking_status'] == i)*1"
   ]
  },
  {
   "cell_type": "code",
   "execution_count": 501,
   "metadata": {},
   "outputs": [
    {
     "data": {
      "text/html": [
       "<div>\n",
       "<style scoped>\n",
       "    .dataframe tbody tr th:only-of-type {\n",
       "        vertical-align: middle;\n",
       "    }\n",
       "\n",
       "    .dataframe tbody tr th {\n",
       "        vertical-align: top;\n",
       "    }\n",
       "\n",
       "    .dataframe thead th {\n",
       "        text-align: right;\n",
       "    }\n",
       "</style>\n",
       "<table border=\"1\" class=\"dataframe\">\n",
       "  <thead>\n",
       "    <tr style=\"text-align: right;\">\n",
       "      <th></th>\n",
       "      <th>id</th>\n",
       "      <th>gender</th>\n",
       "      <th>age</th>\n",
       "      <th>hypertension</th>\n",
       "      <th>heart_disease</th>\n",
       "      <th>ever_married</th>\n",
       "      <th>work_type</th>\n",
       "      <th>Residence_type</th>\n",
       "      <th>avg_glucose_level</th>\n",
       "      <th>bmi</th>\n",
       "      <th>...</th>\n",
       "      <th>work_type_is_children</th>\n",
       "      <th>work_type_is_Private</th>\n",
       "      <th>work_type_is_Never_worked</th>\n",
       "      <th>work_type_is_Self-employed</th>\n",
       "      <th>work_type_is_Govt_job</th>\n",
       "      <th>smoking_status_smooth_target_enc</th>\n",
       "      <th>smoking_status_is_nan</th>\n",
       "      <th>smoking_status_is_never smoked</th>\n",
       "      <th>smoking_status_is_formerly smoked</th>\n",
       "      <th>smoking_status_is_smokes</th>\n",
       "    </tr>\n",
       "  </thead>\n",
       "  <tbody>\n",
       "    <tr>\n",
       "      <th>0</th>\n",
       "      <td>30669</td>\n",
       "      <td>Male</td>\n",
       "      <td>3.0</td>\n",
       "      <td>0</td>\n",
       "      <td>0</td>\n",
       "      <td>0</td>\n",
       "      <td>children</td>\n",
       "      <td>0</td>\n",
       "      <td>95.12</td>\n",
       "      <td>18.0</td>\n",
       "      <td>...</td>\n",
       "      <td>1</td>\n",
       "      <td>0</td>\n",
       "      <td>0</td>\n",
       "      <td>0</td>\n",
       "      <td>0</td>\n",
       "      <td>0.011450</td>\n",
       "      <td>1</td>\n",
       "      <td>0</td>\n",
       "      <td>0</td>\n",
       "      <td>0</td>\n",
       "    </tr>\n",
       "    <tr>\n",
       "      <th>1</th>\n",
       "      <td>30468</td>\n",
       "      <td>Male</td>\n",
       "      <td>58.0</td>\n",
       "      <td>1</td>\n",
       "      <td>0</td>\n",
       "      <td>1</td>\n",
       "      <td>Private</td>\n",
       "      <td>1</td>\n",
       "      <td>87.96</td>\n",
       "      <td>39.2</td>\n",
       "      <td>...</td>\n",
       "      <td>0</td>\n",
       "      <td>1</td>\n",
       "      <td>0</td>\n",
       "      <td>0</td>\n",
       "      <td>0</td>\n",
       "      <td>0.017240</td>\n",
       "      <td>0</td>\n",
       "      <td>1</td>\n",
       "      <td>0</td>\n",
       "      <td>0</td>\n",
       "    </tr>\n",
       "    <tr>\n",
       "      <th>2</th>\n",
       "      <td>16523</td>\n",
       "      <td>Female</td>\n",
       "      <td>8.0</td>\n",
       "      <td>0</td>\n",
       "      <td>0</td>\n",
       "      <td>0</td>\n",
       "      <td>Private</td>\n",
       "      <td>1</td>\n",
       "      <td>110.89</td>\n",
       "      <td>17.6</td>\n",
       "      <td>...</td>\n",
       "      <td>0</td>\n",
       "      <td>1</td>\n",
       "      <td>0</td>\n",
       "      <td>0</td>\n",
       "      <td>0</td>\n",
       "      <td>0.011450</td>\n",
       "      <td>1</td>\n",
       "      <td>0</td>\n",
       "      <td>0</td>\n",
       "      <td>0</td>\n",
       "    </tr>\n",
       "    <tr>\n",
       "      <th>3</th>\n",
       "      <td>56543</td>\n",
       "      <td>Female</td>\n",
       "      <td>70.0</td>\n",
       "      <td>0</td>\n",
       "      <td>0</td>\n",
       "      <td>1</td>\n",
       "      <td>Private</td>\n",
       "      <td>0</td>\n",
       "      <td>69.04</td>\n",
       "      <td>35.9</td>\n",
       "      <td>...</td>\n",
       "      <td>0</td>\n",
       "      <td>1</td>\n",
       "      <td>0</td>\n",
       "      <td>0</td>\n",
       "      <td>0</td>\n",
       "      <td>0.027764</td>\n",
       "      <td>0</td>\n",
       "      <td>0</td>\n",
       "      <td>1</td>\n",
       "      <td>0</td>\n",
       "    </tr>\n",
       "    <tr>\n",
       "      <th>4</th>\n",
       "      <td>46136</td>\n",
       "      <td>Male</td>\n",
       "      <td>14.0</td>\n",
       "      <td>0</td>\n",
       "      <td>0</td>\n",
       "      <td>0</td>\n",
       "      <td>Never_worked</td>\n",
       "      <td>0</td>\n",
       "      <td>161.28</td>\n",
       "      <td>19.1</td>\n",
       "      <td>...</td>\n",
       "      <td>0</td>\n",
       "      <td>0</td>\n",
       "      <td>1</td>\n",
       "      <td>0</td>\n",
       "      <td>0</td>\n",
       "      <td>0.011450</td>\n",
       "      <td>1</td>\n",
       "      <td>0</td>\n",
       "      <td>0</td>\n",
       "      <td>0</td>\n",
       "    </tr>\n",
       "  </tbody>\n",
       "</table>\n",
       "<p>5 rows × 22 columns</p>\n",
       "</div>"
      ],
      "text/plain": [
       "      id  gender   age  hypertension  heart_disease  ever_married  \\\n",
       "0  30669    Male   3.0             0              0             0   \n",
       "1  30468    Male  58.0             1              0             1   \n",
       "2  16523  Female   8.0             0              0             0   \n",
       "3  56543  Female  70.0             0              0             1   \n",
       "4  46136    Male  14.0             0              0             0   \n",
       "\n",
       "      work_type  Residence_type  avg_glucose_level   bmi  ...  \\\n",
       "0      children               0              95.12  18.0  ...   \n",
       "1       Private               1              87.96  39.2  ...   \n",
       "2       Private               1             110.89  17.6  ...   \n",
       "3       Private               0              69.04  35.9  ...   \n",
       "4  Never_worked               0             161.28  19.1  ...   \n",
       "\n",
       "  work_type_is_children  work_type_is_Private  work_type_is_Never_worked  \\\n",
       "0                     1                     0                          0   \n",
       "1                     0                     1                          0   \n",
       "2                     0                     1                          0   \n",
       "3                     0                     1                          0   \n",
       "4                     0                     0                          1   \n",
       "\n",
       "   work_type_is_Self-employed  work_type_is_Govt_job  \\\n",
       "0                           0                      0   \n",
       "1                           0                      0   \n",
       "2                           0                      0   \n",
       "3                           0                      0   \n",
       "4                           0                      0   \n",
       "\n",
       "   smoking_status_smooth_target_enc  smoking_status_is_nan  \\\n",
       "0                          0.011450                      1   \n",
       "1                          0.017240                      0   \n",
       "2                          0.011450                      1   \n",
       "3                          0.027764                      0   \n",
       "4                          0.011450                      1   \n",
       "\n",
       "   smoking_status_is_never smoked  smoking_status_is_formerly smoked  \\\n",
       "0                               0                                  0   \n",
       "1                               1                                  0   \n",
       "2                               0                                  0   \n",
       "3                               0                                  1   \n",
       "4                               0                                  0   \n",
       "\n",
       "   smoking_status_is_smokes  \n",
       "0                         0  \n",
       "1                         0  \n",
       "2                         0  \n",
       "3                         0  \n",
       "4                         0  \n",
       "\n",
       "[5 rows x 22 columns]"
      ]
     },
     "execution_count": 501,
     "metadata": {},
     "output_type": "execute_result"
    }
   ],
   "source": [
    "train.head()"
   ]
  },
  {
   "cell_type": "code",
   "execution_count": 502,
   "metadata": {},
   "outputs": [],
   "source": [
    "gender_target_enc_dict = (train.groupby(['gender'])['stroke'].agg(['mean'])).to_dict()['mean']\n",
    "\n",
    "train['gender_target_enc'] = train['gender'].replace(gender_target_enc_dict)\n",
    "test['gender_target_enc'] = test['gender'].replace(gender_target_enc_dict)"
   ]
  },
  {
   "cell_type": "code",
   "execution_count": 503,
   "metadata": {},
   "outputs": [],
   "source": [
    "all_features = [ 'age', 'hypertension', 'heart_disease', 'ever_married',\n",
    "        'Residence_type', 'avg_glucose_level', 'bmi',\n",
    "         'work_type_is_children',\n",
    "       'work_type_is_Private', 'work_type_is_Never_worked',\n",
    "       'work_type_is_Self-employed', 'work_type_is_Govt_job',\n",
    "       'smoking_status_target_enc', 'smoking_status_is_nan',\n",
    "       'smoking_status_is_never smoked', 'smoking_status_is_formerly smoked',\n",
    "       'smoking_status_is_smokes', 'gender_target_enc']"
   ]
  },
  {
   "cell_type": "code",
   "execution_count": 504,
   "metadata": {},
   "outputs": [],
   "source": [
    "from sklearn.model_selection import KFold\n",
    "from sklearn.metrics import roc_auc_score \n",
    "# вводим метрику roc auc и записываем для нее функцию вычисления метрики с использованием модели log_reg_1, кросс-валидации"
   ]
  },
  {
   "cell_type": "code",
   "execution_count": 505,
   "metadata": {},
   "outputs": [],
   "source": [
    "def my_cross_validation_for_roc_auc( log_reg_1, X, y ,cv=5):\n",
    "    X = np.array(X.copy())\n",
    "    y = np.array(y.copy())\n",
    "    kf = KFold(n_splits=cv)\n",
    "    kf.get_n_splits(X)\n",
    "    scores = []\n",
    "    for train_index, test_index in kf.split(X):\n",
    "        #print(\"TRAIN:\", train_index, \"TEST:\", test_index)\n",
    "        X_train, X_test = X[train_index], X[test_index]\n",
    "        y_train, y_test = y[train_index], y[test_index]\n",
    "        \n",
    "        log_reg_1.fit(X_train, y_train)\n",
    "        prediction_on_this_fold = log_reg_1.predict_proba(X_test)[:,1]\n",
    "        \n",
    "        score = roc_auc_score(y_score=prediction_on_this_fold, y_true=y_test)\n",
    "        scores.append(score)\n",
    "        \n",
    "    return scores\n",
    "# здесь вычисляются метрики для выборки разбитой равномерно на пять частей, используем кросс-валидацию"
   ]
  },
  {
   "cell_type": "code",
   "execution_count": 506,
   "metadata": {},
   "outputs": [],
   "source": [
    "features = [  'age',\n",
    "            'hypertension' , 'heart_disease' , 'ever_married' ,\n",
    "            'avg_glucose_level' ,'bmi']"
   ]
  },
  {
   "cell_type": "code",
   "execution_count": 507,
   "metadata": {},
   "outputs": [
    {
     "name": "stderr",
     "output_type": "stream",
     "text": [
      "D:\\JyPyter\\lib\\site-packages\\sklearn\\linear_model\\logistic.py:947: ConvergenceWarning: lbfgs failed to converge. Increase the number of iterations.\n",
      "  \"of iterations.\", ConvergenceWarning)\n",
      "D:\\JyPyter\\lib\\site-packages\\sklearn\\linear_model\\logistic.py:947: ConvergenceWarning: lbfgs failed to converge. Increase the number of iterations.\n",
      "  \"of iterations.\", ConvergenceWarning)\n"
     ]
    }
   ],
   "source": [
    "scores = my_cross_validation_for_roc_auc(log_reg_1, train[features] , train['stroke'])"
   ]
  },
  {
   "cell_type": "code",
   "execution_count": 508,
   "metadata": {},
   "outputs": [
    {
     "data": {
      "text/plain": [
       "[0.8420497759704808,\n",
       " 0.848366647141066,\n",
       " 0.8471269478319783,\n",
       " 0.8541358001635146,\n",
       " 0.8451441762700042]"
      ]
     },
     "execution_count": 508,
     "metadata": {},
     "output_type": "execute_result"
    }
   ],
   "source": [
    "scores\n",
    "# список вычисленных метрик для каждого случая"
   ]
  },
  {
   "cell_type": "code",
   "execution_count": 509,
   "metadata": {},
   "outputs": [
    {
     "data": {
      "text/plain": [
       "0.8473646694754088"
      ]
     },
     "execution_count": 509,
     "metadata": {},
     "output_type": "execute_result"
    }
   ],
   "source": [
    "np.mean(scores)# среднее значение по всем разбиениям"
   ]
  },
  {
   "cell_type": "code",
   "execution_count": 510,
   "metadata": {},
   "outputs": [],
   "source": [
    "all_features = [ 'age', 'hypertension', 'heart_disease', 'ever_married',\n",
    "        'Residence_type', 'avg_glucose_level', 'bmi',\n",
    "         'work_type_is_children',\n",
    "       'work_type_is_Private', 'work_type_is_Never_worked',\n",
    "       'work_type_is_Self-employed', 'work_type_is_Govt_job']\n",
    "# выбираем все числовые фичи"
   ]
  },
  {
   "cell_type": "code",
   "execution_count": 511,
   "metadata": {},
   "outputs": [
    {
     "name": "stdout",
     "output_type": "stream",
     "text": [
      "age 0.8366076869311634\n",
      "hypertension 0.581615320246325\n",
      "heart_disease 0.5818777239077606\n",
      "ever_married 0.6259899654630761\n",
      "Residence_type 0.49321198951765294\n",
      "avg_glucose_level 0.6139074419876318\n",
      "bmi 0.5628027539558931\n",
      "work_type_is_children 0.5689884334400628\n",
      "work_type_is_Private 0.48643144589553095\n",
      "work_type_is_Never_worked 0.5019511976545372\n",
      "work_type_is_Self-employed 0.5634987850302702\n",
      "work_type_is_Govt_job 0.4889896401849564\n"
     ]
    }
   ],
   "source": [
    "features_scores = {}\n",
    "for f in all_features:\n",
    "    scores = my_cross_validation_for_roc_auc(log_reg_1, train[[f]] , train['stroke'])\n",
    "    print(f,  np.mean(scores))\n",
    "    features_scores[f] = np.mean(scores)\n",
    "    # считаем для них метрику"
   ]
  },
  {
   "cell_type": "code",
   "execution_count": 512,
   "metadata": {},
   "outputs": [
    {
     "name": "stderr",
     "output_type": "stream",
     "text": [
      "D:\\JyPyter\\lib\\site-packages\\sklearn\\linear_model\\logistic.py:947: ConvergenceWarning: lbfgs failed to converge. Increase the number of iterations.\n",
      "  \"of iterations.\", ConvergenceWarning)\n",
      "D:\\JyPyter\\lib\\site-packages\\sklearn\\linear_model\\logistic.py:947: ConvergenceWarning: lbfgs failed to converge. Increase the number of iterations.\n",
      "  \"of iterations.\", ConvergenceWarning)\n",
      "D:\\JyPyter\\lib\\site-packages\\sklearn\\linear_model\\logistic.py:947: ConvergenceWarning: lbfgs failed to converge. Increase the number of iterations.\n",
      "  \"of iterations.\", ConvergenceWarning)\n",
      "D:\\JyPyter\\lib\\site-packages\\sklearn\\linear_model\\logistic.py:947: ConvergenceWarning: lbfgs failed to converge. Increase the number of iterations.\n",
      "  \"of iterations.\", ConvergenceWarning)\n",
      "D:\\JyPyter\\lib\\site-packages\\sklearn\\linear_model\\logistic.py:947: ConvergenceWarning: lbfgs failed to converge. Increase the number of iterations.\n",
      "  \"of iterations.\", ConvergenceWarning)\n"
     ]
    }
   ],
   "source": [
    "scores = my_cross_validation_for_roc_auc(log_reg_1, train[all_features] , train['stroke'])"
   ]
  },
  {
   "cell_type": "code",
   "execution_count": 513,
   "metadata": {},
   "outputs": [
    {
     "data": {
      "text/plain": [
       "0.846582333271612"
      ]
     },
     "execution_count": 513,
     "metadata": {},
     "output_type": "execute_result"
    }
   ],
   "source": [
    "np.mean(scores)"
   ]
  },
  {
   "cell_type": "code",
   "execution_count": 514,
   "metadata": {},
   "outputs": [],
   "source": [
    "# средние значение метрики для параметров без учета типа занятости выше, значит эти параметры несущественны"
   ]
  },
  {
   "cell_type": "code",
   "execution_count": 515,
   "metadata": {},
   "outputs": [],
   "source": [
    "feautures_list=[ 'age', 'hypertension', 'heart_disease', 'ever_married',\n",
    "        'Residence_type', 'avg_glucose_level', 'bmi',\n",
    "         'work_type_is_children',\n",
    "       'work_type_is_Private', 'work_type_is_Never_worked',\n",
    "       'work_type_is_Self-employed', 'work_type_is_Govt_job']"
   ]
  },
  {
   "cell_type": "code",
   "execution_count": 516,
   "metadata": {},
   "outputs": [
    {
     "data": {
      "text/html": [
       "<div>\n",
       "<style scoped>\n",
       "    .dataframe tbody tr th:only-of-type {\n",
       "        vertical-align: middle;\n",
       "    }\n",
       "\n",
       "    .dataframe tbody tr th {\n",
       "        vertical-align: top;\n",
       "    }\n",
       "\n",
       "    .dataframe thead th {\n",
       "        text-align: right;\n",
       "    }\n",
       "</style>\n",
       "<table border=\"1\" class=\"dataframe\">\n",
       "  <thead>\n",
       "    <tr style=\"text-align: right;\">\n",
       "      <th></th>\n",
       "      <th>id</th>\n",
       "      <th>gender</th>\n",
       "      <th>age</th>\n",
       "      <th>hypertension</th>\n",
       "      <th>heart_disease</th>\n",
       "      <th>ever_married</th>\n",
       "      <th>work_type</th>\n",
       "      <th>Residence_type</th>\n",
       "      <th>avg_glucose_level</th>\n",
       "      <th>bmi</th>\n",
       "      <th>...</th>\n",
       "      <th>work_type_is_Private</th>\n",
       "      <th>work_type_is_Never_worked</th>\n",
       "      <th>work_type_is_Self-employed</th>\n",
       "      <th>work_type_is_Govt_job</th>\n",
       "      <th>smoking_status_smooth_target_enc</th>\n",
       "      <th>smoking_status_is_nan</th>\n",
       "      <th>smoking_status_is_never smoked</th>\n",
       "      <th>smoking_status_is_formerly smoked</th>\n",
       "      <th>smoking_status_is_smokes</th>\n",
       "      <th>gender_target_enc</th>\n",
       "    </tr>\n",
       "  </thead>\n",
       "  <tbody>\n",
       "    <tr>\n",
       "      <th>0</th>\n",
       "      <td>37061</td>\n",
       "      <td>Male</td>\n",
       "      <td>19.0</td>\n",
       "      <td>0</td>\n",
       "      <td>0</td>\n",
       "      <td>0</td>\n",
       "      <td>Private</td>\n",
       "      <td>0</td>\n",
       "      <td>92.61</td>\n",
       "      <td>16.8</td>\n",
       "      <td>...</td>\n",
       "      <td>1</td>\n",
       "      <td>0</td>\n",
       "      <td>0</td>\n",
       "      <td>0</td>\n",
       "      <td>0.017240</td>\n",
       "      <td>0</td>\n",
       "      <td>1</td>\n",
       "      <td>0</td>\n",
       "      <td>0</td>\n",
       "      <td>0.019245</td>\n",
       "    </tr>\n",
       "    <tr>\n",
       "      <th>1</th>\n",
       "      <td>42333</td>\n",
       "      <td>Male</td>\n",
       "      <td>53.0</td>\n",
       "      <td>0</td>\n",
       "      <td>0</td>\n",
       "      <td>1</td>\n",
       "      <td>Govt_job</td>\n",
       "      <td>1</td>\n",
       "      <td>94.03</td>\n",
       "      <td>26.5</td>\n",
       "      <td>...</td>\n",
       "      <td>0</td>\n",
       "      <td>0</td>\n",
       "      <td>0</td>\n",
       "      <td>1</td>\n",
       "      <td>0.011450</td>\n",
       "      <td>1</td>\n",
       "      <td>0</td>\n",
       "      <td>0</td>\n",
       "      <td>0</td>\n",
       "      <td>0.019245</td>\n",
       "    </tr>\n",
       "    <tr>\n",
       "      <th>2</th>\n",
       "      <td>58964</td>\n",
       "      <td>Female</td>\n",
       "      <td>51.0</td>\n",
       "      <td>0</td>\n",
       "      <td>0</td>\n",
       "      <td>1</td>\n",
       "      <td>Private</td>\n",
       "      <td>0</td>\n",
       "      <td>127.22</td>\n",
       "      <td>31.0</td>\n",
       "      <td>...</td>\n",
       "      <td>1</td>\n",
       "      <td>0</td>\n",
       "      <td>0</td>\n",
       "      <td>0</td>\n",
       "      <td>0.019719</td>\n",
       "      <td>0</td>\n",
       "      <td>0</td>\n",
       "      <td>0</td>\n",
       "      <td>1</td>\n",
       "      <td>0.016576</td>\n",
       "    </tr>\n",
       "    <tr>\n",
       "      <th>3</th>\n",
       "      <td>34063</td>\n",
       "      <td>Female</td>\n",
       "      <td>17.0</td>\n",
       "      <td>0</td>\n",
       "      <td>0</td>\n",
       "      <td>0</td>\n",
       "      <td>Private</td>\n",
       "      <td>0</td>\n",
       "      <td>112.15</td>\n",
       "      <td>19.8</td>\n",
       "      <td>...</td>\n",
       "      <td>1</td>\n",
       "      <td>0</td>\n",
       "      <td>0</td>\n",
       "      <td>0</td>\n",
       "      <td>0.011450</td>\n",
       "      <td>1</td>\n",
       "      <td>0</td>\n",
       "      <td>0</td>\n",
       "      <td>0</td>\n",
       "      <td>0.016576</td>\n",
       "    </tr>\n",
       "    <tr>\n",
       "      <th>4</th>\n",
       "      <td>43682</td>\n",
       "      <td>Female</td>\n",
       "      <td>41.0</td>\n",
       "      <td>0</td>\n",
       "      <td>0</td>\n",
       "      <td>1</td>\n",
       "      <td>Govt_job</td>\n",
       "      <td>1</td>\n",
       "      <td>112.17</td>\n",
       "      <td>27.5</td>\n",
       "      <td>...</td>\n",
       "      <td>0</td>\n",
       "      <td>0</td>\n",
       "      <td>0</td>\n",
       "      <td>1</td>\n",
       "      <td>0.017240</td>\n",
       "      <td>0</td>\n",
       "      <td>1</td>\n",
       "      <td>0</td>\n",
       "      <td>0</td>\n",
       "      <td>0.016576</td>\n",
       "    </tr>\n",
       "  </tbody>\n",
       "</table>\n",
       "<p>5 rows × 22 columns</p>\n",
       "</div>"
      ],
      "text/plain": [
       "      id  gender   age  hypertension  heart_disease  ever_married work_type  \\\n",
       "0  37061    Male  19.0             0              0             0   Private   \n",
       "1  42333    Male  53.0             0              0             1  Govt_job   \n",
       "2  58964  Female  51.0             0              0             1   Private   \n",
       "3  34063  Female  17.0             0              0             0   Private   \n",
       "4  43682  Female  41.0             0              0             1  Govt_job   \n",
       "\n",
       "   Residence_type  avg_glucose_level   bmi  ... work_type_is_Private  \\\n",
       "0               0              92.61  16.8  ...                    1   \n",
       "1               1              94.03  26.5  ...                    0   \n",
       "2               0             127.22  31.0  ...                    1   \n",
       "3               0             112.15  19.8  ...                    1   \n",
       "4               1             112.17  27.5  ...                    0   \n",
       "\n",
       "   work_type_is_Never_worked  work_type_is_Self-employed  \\\n",
       "0                          0                           0   \n",
       "1                          0                           0   \n",
       "2                          0                           0   \n",
       "3                          0                           0   \n",
       "4                          0                           0   \n",
       "\n",
       "   work_type_is_Govt_job  smoking_status_smooth_target_enc  \\\n",
       "0                      0                          0.017240   \n",
       "1                      1                          0.011450   \n",
       "2                      0                          0.019719   \n",
       "3                      0                          0.011450   \n",
       "4                      1                          0.017240   \n",
       "\n",
       "   smoking_status_is_nan  smoking_status_is_never smoked  \\\n",
       "0                      0                               1   \n",
       "1                      1                               0   \n",
       "2                      0                               0   \n",
       "3                      1                               0   \n",
       "4                      0                               1   \n",
       "\n",
       "   smoking_status_is_formerly smoked  smoking_status_is_smokes  \\\n",
       "0                                  0                         0   \n",
       "1                                  0                         0   \n",
       "2                                  0                         1   \n",
       "3                                  0                         0   \n",
       "4                                  0                         0   \n",
       "\n",
       "   gender_target_enc  \n",
       "0           0.019245  \n",
       "1           0.019245  \n",
       "2           0.016576  \n",
       "3           0.016576  \n",
       "4           0.016576  \n",
       "\n",
       "[5 rows x 22 columns]"
      ]
     },
     "execution_count": 516,
     "metadata": {},
     "output_type": "execute_result"
    }
   ],
   "source": [
    "test.head()"
   ]
  },
  {
   "cell_type": "code",
   "execution_count": 517,
   "metadata": {},
   "outputs": [
    {
     "data": {
      "text/plain": [
       "LogisticRegression(C=1.0, class_weight=None, dual=False, fit_intercept=True,\n",
       "                   intercept_scaling=1, l1_ratio=None, max_iter=100,\n",
       "                   multi_class='warn', n_jobs=None, penalty='l2',\n",
       "                   random_state=0, solver='lbfgs', tol=0.0001, verbose=0,\n",
       "                   warm_start=False)"
      ]
     },
     "execution_count": 517,
     "metadata": {},
     "output_type": "execute_result"
    }
   ],
   "source": [
    "log_reg_1"
   ]
  },
  {
   "cell_type": "code",
   "execution_count": 518,
   "metadata": {},
   "outputs": [],
   "source": [
    "prediction = log_reg_1.predict_proba(X = test.loc[:,feautures_list ] )[:,1]\n",
    "# предсказываем значение на тесте, заносим в переменную и записываем в файл для загрузки на kaggle"
   ]
  },
  {
   "cell_type": "code",
   "execution_count": 519,
   "metadata": {},
   "outputs": [],
   "source": [
    "sample['stroke'] = prediction"
   ]
  },
  {
   "cell_type": "code",
   "execution_count": 520,
   "metadata": {},
   "outputs": [],
   "source": [
    "sample.to_csv('submi2.csv', index = None ) # на kaggle выдает 0.86, что приблизительно с метрикой совпало"
   ]
  },
  {
   "cell_type": "code",
   "execution_count": 521,
   "metadata": {},
   "outputs": [],
   "source": [
    "# теперь применяю метод стохастического градиентного спуска"
   ]
  },
  {
   "cell_type": "code",
   "execution_count": 522,
   "metadata": {},
   "outputs": [],
   "source": [
    "from sklearn import datasets, linear_model\n",
    "from sklearn.metrics import mean_squared_error, r2_score"
   ]
  },
  {
   "cell_type": "code",
   "execution_count": 523,
   "metadata": {},
   "outputs": [],
   "source": [
    "clf = linear_model.SGDRegressor(max_iter=1000, tol=1e-2)"
   ]
  },
  {
   "cell_type": "code",
   "execution_count": 524,
   "metadata": {},
   "outputs": [],
   "source": [
    "train_part1 = train.loc[0:15000, : ].copy()\n",
    "train_part2 = train.loc[15000:, : ].copy()"
   ]
  },
  {
   "cell_type": "code",
   "execution_count": 525,
   "metadata": {},
   "outputs": [],
   "source": [
    "feautures_list = ['age', 'avg_glucose_level', 'bmi']"
   ]
  },
  {
   "cell_type": "code",
   "execution_count": 526,
   "metadata": {},
   "outputs": [
    {
     "data": {
      "text/plain": [
       "SGDRegressor(alpha=0.0001, average=False, early_stopping=False, epsilon=0.1,\n",
       "             eta0=0.01, fit_intercept=True, l1_ratio=0.15,\n",
       "             learning_rate='invscaling', loss='squared_loss', max_iter=1000,\n",
       "             n_iter_no_change=5, penalty='l2', power_t=0.25, random_state=None,\n",
       "             shuffle=True, tol=0.01, validation_fraction=0.1, verbose=0,\n",
       "             warm_start=False)"
      ]
     },
     "execution_count": 526,
     "metadata": {},
     "output_type": "execute_result"
    }
   ],
   "source": [
    "clf.fit(X = train_part1.loc[:,feautures_list ], y= train_part1.loc[:, 'stroke'])"
   ]
  },
  {
   "cell_type": "code",
   "execution_count": 527,
   "metadata": {},
   "outputs": [],
   "source": [
    "prediction_on_part2 = clf.predict(train_part2.loc[:,feautures_list ] )"
   ]
  },
  {
   "cell_type": "code",
   "execution_count": 528,
   "metadata": {},
   "outputs": [
    {
     "data": {
      "text/plain": [
       "array([3.69409563e+12, 2.51085098e+12, 2.64333864e+12, ...,\n",
       "       2.53655227e+12, 3.09884420e+12, 3.43157489e+12])"
      ]
     },
     "execution_count": 528,
     "metadata": {},
     "output_type": "execute_result"
    }
   ],
   "source": [
    "prediction_on_part2"
   ]
  },
  {
   "cell_type": "code",
   "execution_count": 529,
   "metadata": {},
   "outputs": [],
   "source": [
    "prediction = clf.predict(X = test.loc[:,feautures_list ] )"
   ]
  },
  {
   "cell_type": "code",
   "execution_count": 530,
   "metadata": {},
   "outputs": [],
   "source": [
    "sample['stroke'] = prediction"
   ]
  },
  {
   "cell_type": "code",
   "execution_count": 531,
   "metadata": {},
   "outputs": [],
   "source": [
    "sample.to_csv('submi2.csv(9)', index = None )\n",
    "# здесь все действия будут как в пункте с логистической регрессией"
   ]
  },
  {
   "cell_type": "code",
   "execution_count": 532,
   "metadata": {},
   "outputs": [],
   "source": [
    "# последняя часть просто линейная регрессия\n",
    "sample = pd.read_csv (\"C:\\\\Users\\\\bubbl\\\\Desktop\\\\Data\\\\sample_submission.csv\")\n",
    "test = pd.read_csv(\"C:\\\\Users\\\\bubbl\\\\Desktop\\\\Data\\\\test.csv\")\n",
    "train = pd.read_csv(\"C:\\\\Users\\\\bubbl\\\\Desktop\\\\Data\\\\train.csv\")\n",
    "train['bmi'] = train['bmi'].fillna(0)\n",
    "test['bmi'] = test['bmi'].fillna(0)"
   ]
  },
  {
   "cell_type": "code",
   "execution_count": 533,
   "metadata": {},
   "outputs": [
    {
     "data": {
      "text/plain": [
       "never smoked       11079\n",
       "nan                 9176\n",
       "formerly smoked     5183\n",
       "smokes              4563\n",
       "Name: smoking_status, dtype: int64"
      ]
     },
     "execution_count": 533,
     "metadata": {},
     "output_type": "execute_result"
    }
   ],
   "source": [
    "train['smoking_status'].fillna('nan').value_counts()"
   ]
  },
  {
   "cell_type": "code",
   "execution_count": 534,
   "metadata": {},
   "outputs": [],
   "source": [
    "ever_married_dict = {'Yes': 1, 'No':0 }"
   ]
  },
  {
   "cell_type": "code",
   "execution_count": 535,
   "metadata": {},
   "outputs": [],
   "source": [
    "gender_dict={'Male':1,'Female':-1,'Other':0}"
   ]
  },
  {
   "cell_type": "code",
   "execution_count": 536,
   "metadata": {},
   "outputs": [],
   "source": [
    "train['ever_married'] =train['ever_married'].replace(ever_married_dict)\n",
    "test['ever_married'] = test['ever_married'].replace(ever_married_dict)"
   ]
  },
  {
   "cell_type": "code",
   "execution_count": 537,
   "metadata": {},
   "outputs": [],
   "source": [
    "train['gender'] =train['gender'].replace(gender_dict)\n",
    "test['gender'] = test['gender'].replace(gender_dict)"
   ]
  },
  {
   "cell_type": "code",
   "execution_count": 538,
   "metadata": {},
   "outputs": [],
   "source": [
    "train['Residence_type'] = train['Residence_type'].replace({'Urban':1, 'Rural':0 })\n",
    "test['Residence_type'] = test['Residence_type'].replace({'Urban':1, 'Rural':0 })"
   ]
  },
  {
   "cell_type": "code",
   "execution_count": 539,
   "metadata": {},
   "outputs": [],
   "source": [
    "feautures_list = ['Residence_type','age', 'avg_glucose_level', 'bmi', 'ever_married','hypertension','heart_disease','gender']"
   ]
  },
  {
   "cell_type": "code",
   "execution_count": 540,
   "metadata": {},
   "outputs": [
    {
     "data": {
      "text/plain": [
       "SGDClassifier(alpha=0.0001, average=False, class_weight=None,\n",
       "              early_stopping=False, epsilon=0.1, eta0=0.0, fit_intercept=True,\n",
       "              l1_ratio=0.15, learning_rate='optimal', loss='log', max_iter=1000,\n",
       "              n_iter_no_change=5, n_jobs=None, penalty='l1', power_t=0.5,\n",
       "              random_state=None, shuffle=True, tol=0.001,\n",
       "              validation_fraction=0.1, verbose=0, warm_start=False)"
      ]
     },
     "execution_count": 540,
     "metadata": {},
     "output_type": "execute_result"
    }
   ],
   "source": [
    "clf = linear_model.SGDClassifier(max_iter=1000,  loss='log', penalty = 'l1')\n",
    "clf.fit(train[feautures_list], train['stroke'])"
   ]
  },
  {
   "cell_type": "code",
   "execution_count": 541,
   "metadata": {},
   "outputs": [
    {
     "data": {
      "text/plain": [
       "array([[1.00000000e+00, 2.60754505e-70],\n",
       "       [1.00000000e+00, 2.22123910e-55],\n",
       "       [1.00000000e+00, 1.05792300e-53],\n",
       "       ...,\n",
       "       [1.00000000e+00, 8.02157900e-24],\n",
       "       [1.00000000e+00, 3.94710966e-69],\n",
       "       [1.00000000e+00, 3.33308691e-27]])"
      ]
     },
     "execution_count": 541,
     "metadata": {},
     "output_type": "execute_result"
    }
   ],
   "source": [
    "clf.predict_proba(test[feautures_list])"
   ]
  },
  {
   "cell_type": "code",
   "execution_count": 542,
   "metadata": {},
   "outputs": [],
   "source": [
    "prediction = clf.predict_proba(test[feautures_list])[:,1]"
   ]
  },
  {
   "cell_type": "code",
   "execution_count": 543,
   "metadata": {},
   "outputs": [],
   "source": [
    "sample['stroke'] = prediction"
   ]
  },
  {
   "cell_type": "code",
   "execution_count": 544,
   "metadata": {},
   "outputs": [],
   "source": [
    "sample.to_csv('submi2.csv(10)', index = None )"
   ]
  },
  {
   "cell_type": "code",
   "execution_count": 545,
   "metadata": {},
   "outputs": [],
   "source": [
    "# здесь наибольший score получается, если заменить все null значения в bmi на 0, перевод категориальных переменных в числовую форму \n",
    "# и их использование понижают значение на kaggle, max=0.87769"
   ]
  },
  {
   "cell_type": "code",
   "execution_count": 546,
   "metadata": {},
   "outputs": [],
   "source": [
    "def my_cross_validation_for_roc_auc( clf, X, y ,cv=5):\n",
    "    X = np.array(X.copy())\n",
    "    y = np.array(y.copy())\n",
    "    kf = KFold(n_splits=cv)\n",
    "    kf.get_n_splits(X)\n",
    "    scores = []\n",
    "    for train_index, test_index in kf.split(X):\n",
    "        #print(\"TRAIN:\", train_index, \"TEST:\", test_index)\n",
    "        X_train, X_test = X[train_index], X[test_index]\n",
    "        y_train, y_test = y[train_index], y[test_index]\n",
    "        \n",
    "        clf.fit(X_train, y_train)\n",
    "        prediction_on_this_fold = clf.predict_proba(X_test)[:,1]\n",
    "        \n",
    "        score = roc_auc_score(y_score=prediction_on_this_fold, y_true=y_test)\n",
    "        scores.append(score)\n",
    "        \n",
    "    return scores"
   ]
  },
  {
   "cell_type": "code",
   "execution_count": 547,
   "metadata": {},
   "outputs": [],
   "source": [
    "scores = my_cross_validation_for_roc_auc(clf, train[feautures_list] , train['stroke'])"
   ]
  },
  {
   "cell_type": "code",
   "execution_count": 548,
   "metadata": {},
   "outputs": [
    {
     "data": {
      "text/plain": [
       "[0.8329405543061932,\n",
       " 0.8442906080741994,\n",
       " 0.845408480126468,\n",
       " 0.8486265184244491,\n",
       " 0.8330028959168032]"
      ]
     },
     "execution_count": 548,
     "metadata": {},
     "output_type": "execute_result"
    }
   ],
   "source": [
    "scores"
   ]
  },
  {
   "cell_type": "code",
   "execution_count": 549,
   "metadata": {},
   "outputs": [
    {
     "data": {
      "text/plain": [
       "0.8408538113696226"
      ]
     },
     "execution_count": 549,
     "metadata": {},
     "output_type": "execute_result"
    }
   ],
   "source": [
    "np.mean(scores)"
   ]
  },
  {
   "cell_type": "code",
   "execution_count": 550,
   "metadata": {},
   "outputs": [],
   "source": [
    "# значение на kaggel превышает усредненное значение метрик: 0.8386353509760409 и 0.87769\n",
    "# у меня лучший score получился с линейной регрессией, основные параметры, влиящие на результат:gender age hypertension heart_disease ever_marriedgender age hypertension heart_disease ever_married"
   ]
  },
  {
   "cell_type": "code",
   "execution_count": 551,
   "metadata": {},
   "outputs": [
    {
     "data": {
      "text/plain": [
       "<Figure size 1944x648 with 0 Axes>"
      ]
     },
     "metadata": {},
     "output_type": "display_data"
    }
   ],
   "source": [
    "h = .02  # задаем шаг сетки\n",
    "figure = plt.figure(figsize=(27, 9))"
   ]
  },
  {
   "cell_type": "code",
   "execution_count": 552,
   "metadata": {},
   "outputs": [],
   "source": [
    "feature_list=['avg_glucose_level', 'bmi']"
   ]
  },
  {
   "cell_type": "code",
   "execution_count": 553,
   "metadata": {},
   "outputs": [],
   "source": [
    "\n",
    "from matplotlib.colors import ListedColormap\n",
    "from sklearn.preprocessing import StandardScaler\n",
    "from sklearn.model_selection import train_test_split"
   ]
  },
  {
   "cell_type": "code",
   "execution_count": 554,
   "metadata": {},
   "outputs": [],
   "source": [
    "X, y = train.loc[:, feautures_list] , train.loc[:,'stroke']\n",
    "X = StandardScaler().fit_transform(X)\n",
    "X_train, X_test, y_train, y_test = \\\n",
    "                                   train_test_split(X, y, test_size=.4, random_state=42)"
   ]
  },
  {
   "cell_type": "code",
   "execution_count": 555,
   "metadata": {},
   "outputs": [],
   "source": [
    "x_min, x_max = X[:, 0].min() - .5, X[:, 0].max() + .5\n",
    "y_min, y_max = X[:, 1].min() - .5, X[:, 1].max() + .5\n",
    "xx, yy = np.meshgrid(np.arange(x_min, x_max, h),\n",
    "                     np.arange(y_min, y_max, h))"
   ]
  },
  {
   "cell_type": "code",
   "execution_count": null,
   "metadata": {},
   "outputs": [],
   "source": [
    "\n",
    "# в итоге получилось следующее: 0,85876 kaggle and 0,84085 значение метрики для линейной модели; 0,85054 kaggle and 0.81432 метрика для регрессионной.\n",
    "#  Получилось для линеной модели результат лучше(значение метрики , основные параметры влияющие на stroke это age,hypertension, heart disease, glucose level\n",
    "# bmi, ever married. отбор переменных основан на сравнении значении метрик в зависимости от содержания feature_list."
   ]
  },
  {
   "cell_type": "code",
   "execution_count": null,
   "metadata": {},
   "outputs": [],
   "source": [
    "\n"
   ]
  },
  {
   "cell_type": "code",
   "execution_count": null,
   "metadata": {},
   "outputs": [],
   "source": []
  },
  {
   "cell_type": "code",
   "execution_count": null,
   "metadata": {},
   "outputs": [],
   "source": []
  },
  {
   "cell_type": "code",
   "execution_count": null,
   "metadata": {},
   "outputs": [],
   "source": []
  },
  {
   "cell_type": "code",
   "execution_count": null,
   "metadata": {},
   "outputs": [],
   "source": []
  },
  {
   "cell_type": "code",
   "execution_count": null,
   "metadata": {},
   "outputs": [],
   "source": []
  },
  {
   "cell_type": "code",
   "execution_count": null,
   "metadata": {},
   "outputs": [],
   "source": []
  },
  {
   "cell_type": "code",
   "execution_count": null,
   "metadata": {},
   "outputs": [],
   "source": []
  },
  {
   "cell_type": "code",
   "execution_count": null,
   "metadata": {},
   "outputs": [],
   "source": []
  },
  {
   "cell_type": "code",
   "execution_count": null,
   "metadata": {},
   "outputs": [],
   "source": []
  },
  {
   "cell_type": "code",
   "execution_count": null,
   "metadata": {},
   "outputs": [],
   "source": []
  },
  {
   "cell_type": "code",
   "execution_count": null,
   "metadata": {},
   "outputs": [],
   "source": []
  },
  {
   "cell_type": "code",
   "execution_count": null,
   "metadata": {},
   "outputs": [],
   "source": []
  },
  {
   "cell_type": "code",
   "execution_count": null,
   "metadata": {},
   "outputs": [],
   "source": []
  },
  {
   "cell_type": "code",
   "execution_count": null,
   "metadata": {},
   "outputs": [],
   "source": []
  }
 ],
 "metadata": {
  "kernelspec": {
   "display_name": "Python 3",
   "language": "python",
   "name": "python3"
  },
  "language_info": {
   "codemirror_mode": {
    "name": "ipython",
    "version": 3
   },
   "file_extension": ".py",
   "mimetype": "text/x-python",
   "name": "python",
   "nbconvert_exporter": "python",
   "pygments_lexer": "ipython3",
   "version": "3.7.3"
  }
 },
 "nbformat": 4,
 "nbformat_minor": 2
}
